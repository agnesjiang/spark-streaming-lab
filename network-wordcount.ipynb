{
 "cells": [
  {
   "cell_type": "markdown",
   "metadata": {},
   "source": [
    "# A DStream Word Count Example\n",
    "\n",
    "The purpose of this lab is to get a sense of the older DStream API, which was the original streaming object created with Spark.\n",
    "\n",
    "In this lab, you will create a `StreamingContext` which will read data in from the terminal and provide a real-time word count. \n",
    "\n",
    "The following two cells are there to check your connection to the Spark cluster:"
   ]
  },
  {
   "cell_type": "code",
   "execution_count": null,
   "metadata": {},
   "outputs": [],
   "source": [
    "sc"
   ]
  },
  {
   "cell_type": "code",
   "execution_count": null,
   "metadata": {},
   "outputs": [],
   "source": [
    "spark"
   ]
  },
  {
   "cell_type": "code",
   "execution_count": null,
   "metadata": {},
   "outputs": [],
   "source": [
    "from __future__ import print_function\n",
    "import sys\n",
    "from pyspark.streaming import StreamingContext"
   ]
  },
  {
   "cell_type": "markdown",
   "metadata": {},
   "source": [
    "The following cell creates a `StreamingContext` called ssc, where the first parameter is your `SparkContext` and the second is the number of seconds of the batch interval (10 second.)"
   ]
  },
  {
   "cell_type": "code",
   "execution_count": null,
   "metadata": {},
   "outputs": [],
   "source": [
    "ssc = StreamingContext(sc, 10)"
   ]
  },
  {
   "cell_type": "markdown",
   "metadata": {},
   "source": [
    "This `lines` DStream represents the stream of data that will be received from the data server. Each record in this DStream is a line of text. Next, we want to split the lines by space into words.\n",
    "\n",
    "You will need to change the `\"*.*.*.*\"` to the IP address of your master node."
   ]
  },
  {
   "cell_type": "code",
   "execution_count": null,
   "metadata": {},
   "outputs": [],
   "source": [
    "lines = ssc.socketTextStream(\"*.*.*.*\", 9999)"
   ]
  },
  {
   "cell_type": "markdown",
   "metadata": {},
   "source": [
    "`flatMap` is a one-to-many DStream operation that creates a new DStream by generating multiple new records from each record in the source DStream. In this case, each line will be split into multiple words and the stream of words is represented as the words DStream. Next, we want to count these words."
   ]
  },
  {
   "cell_type": "code",
   "execution_count": null,
   "metadata": {},
   "outputs": [],
   "source": [
    "counts = lines.flatMap(lambda line: line.split(\" \"))\\\n",
    "                  .map(lambda word: (word, 1))\\\n",
    "                  .reduceByKey(lambda a, b: a+b)"
   ]
  },
  {
   "cell_type": "code",
   "execution_count": null,
   "metadata": {},
   "outputs": [],
   "source": [
    "counts.pprint()"
   ]
  },
  {
   "cell_type": "markdown",
   "metadata": {},
   "source": [
    "Before you run the next cell, you will need to start the [Netcat](https://en.wikipedia.org/wiki/Netcat) utility:\n",
    "\n",
    "* Go to your master node terminal\n",
    "* Type `screen`. [Screen](https://en.wikipedia.org/wiki/GNU_Screen) is a great tool, as it permits you to keep a terminal session alive even if you are not connected to the server.\n",
    "* type `nc -lk 9999`. This starts the Netcat program. You'll notice that there is no output. We'll come back to the terminal in a second.\n",
    "\n",
    "Run the next cell, you'll notice that there are sequential timestamps, but nothing in between.    "
   ]
  },
  {
   "cell_type": "code",
   "execution_count": null,
   "metadata": {},
   "outputs": [],
   "source": [
    "ssc.start()"
   ]
  },
  {
   "cell_type": "markdown",
   "metadata": {},
   "source": [
    "Now go back to the terminal where you had Netcat running, and start typing words. When you press enter, scroll down the cell above and you'll see the real-time word count of the line you just typed in. Every 10 seconds, the streaming input is updated giving you the word count for the words typed in that interval."
   ]
  },
  {
   "cell_type": "markdown",
   "metadata": {},
   "source": [
    "To finish, you can press Ctrl-C in the termianl to stop Netcat, and then type `exit` (which exits the Screen terminal) but you are still connected to the master node.\n",
    "\n",
    "You can stop this Notebook by selecting \"Shutdown\" from the Kernel menu above."
   ]
  }
 ],
 "metadata": {
  "kernelspec": {
   "display_name": "Python 2",
   "language": "python",
   "name": "python2"
  },
  "language_info": {
   "codemirror_mode": {
    "name": "ipython",
    "version": 2
   },
   "file_extension": ".py",
   "mimetype": "text/x-python",
   "name": "python",
   "nbconvert_exporter": "python",
   "pygments_lexer": "ipython2",
   "version": "2.7.13"
  }
 },
 "nbformat": 4,
 "nbformat_minor": 2
}
